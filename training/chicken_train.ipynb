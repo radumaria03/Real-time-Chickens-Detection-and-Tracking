{
 "cells": [
  {
   "cell_type": "code",
   "execution_count": 1,
   "id": "3874c079",
   "metadata": {},
   "outputs": [
    {
     "name": "stdout",
     "output_type": "stream",
     "text": [
      "Requirement already satisfied: ultralytics in c:\\users\\radu2\\appdata\\local\\programs\\python\\python312\\lib\\site-packages (8.3.176)\n",
      "Requirement already satisfied: numpy>=1.23.0 in c:\\users\\radu2\\appdata\\local\\programs\\python\\python312\\lib\\site-packages (from ultralytics) (2.2.6)\n",
      "Requirement already satisfied: matplotlib>=3.3.0 in c:\\users\\radu2\\appdata\\local\\programs\\python\\python312\\lib\\site-packages (from ultralytics) (3.10.5)\n",
      "Requirement already satisfied: opencv-python>=4.6.0 in c:\\users\\radu2\\appdata\\local\\programs\\python\\python312\\lib\\site-packages (from ultralytics) (4.12.0.88)\n",
      "Requirement already satisfied: pillow>=7.1.2 in c:\\users\\radu2\\appdata\\local\\programs\\python\\python312\\lib\\site-packages (from ultralytics) (11.3.0)\n",
      "Requirement already satisfied: pyyaml>=5.3.1 in c:\\users\\radu2\\appdata\\local\\programs\\python\\python312\\lib\\site-packages (from ultralytics) (6.0.2)\n",
      "Requirement already satisfied: requests>=2.23.0 in c:\\users\\radu2\\appdata\\local\\programs\\python\\python312\\lib\\site-packages (from ultralytics) (2.32.3)\n",
      "Requirement already satisfied: scipy>=1.4.1 in c:\\users\\radu2\\appdata\\local\\programs\\python\\python312\\lib\\site-packages (from ultralytics) (1.16.1)\n",
      "Requirement already satisfied: torch>=1.8.0 in c:\\users\\radu2\\appdata\\local\\programs\\python\\python312\\lib\\site-packages (from ultralytics) (2.8.0)\n",
      "Requirement already satisfied: torchvision>=0.9.0 in c:\\users\\radu2\\appdata\\local\\programs\\python\\python312\\lib\\site-packages (from ultralytics) (0.23.0)\n",
      "Requirement already satisfied: tqdm>=4.64.0 in c:\\users\\radu2\\appdata\\local\\programs\\python\\python312\\lib\\site-packages (from ultralytics) (4.67.1)\n",
      "Requirement already satisfied: psutil in c:\\users\\radu2\\appdata\\local\\programs\\python\\python312\\lib\\site-packages (from ultralytics) (7.0.0)\n",
      "Requirement already satisfied: py-cpuinfo in c:\\users\\radu2\\appdata\\local\\programs\\python\\python312\\lib\\site-packages (from ultralytics) (9.0.0)\n",
      "Requirement already satisfied: pandas>=1.1.4 in c:\\users\\radu2\\appdata\\local\\programs\\python\\python312\\lib\\site-packages (from ultralytics) (2.3.1)\n",
      "Requirement already satisfied: ultralytics-thop>=2.0.0 in c:\\users\\radu2\\appdata\\local\\programs\\python\\python312\\lib\\site-packages (from ultralytics) (2.0.15)\n",
      "Requirement already satisfied: contourpy>=1.0.1 in c:\\users\\radu2\\appdata\\local\\programs\\python\\python312\\lib\\site-packages (from matplotlib>=3.3.0->ultralytics) (1.3.3)\n",
      "Requirement already satisfied: cycler>=0.10 in c:\\users\\radu2\\appdata\\local\\programs\\python\\python312\\lib\\site-packages (from matplotlib>=3.3.0->ultralytics) (0.12.1)\n",
      "Requirement already satisfied: fonttools>=4.22.0 in c:\\users\\radu2\\appdata\\local\\programs\\python\\python312\\lib\\site-packages (from matplotlib>=3.3.0->ultralytics) (4.59.0)\n",
      "Requirement already satisfied: kiwisolver>=1.3.1 in c:\\users\\radu2\\appdata\\local\\programs\\python\\python312\\lib\\site-packages (from matplotlib>=3.3.0->ultralytics) (1.4.8)\n",
      "Requirement already satisfied: packaging>=20.0 in c:\\users\\radu2\\appdata\\local\\programs\\python\\python312\\lib\\site-packages (from matplotlib>=3.3.0->ultralytics) (24.2)\n",
      "Requirement already satisfied: pyparsing>=2.3.1 in c:\\users\\radu2\\appdata\\local\\programs\\python\\python312\\lib\\site-packages (from matplotlib>=3.3.0->ultralytics) (3.2.3)\n",
      "Requirement already satisfied: python-dateutil>=2.7 in c:\\users\\radu2\\appdata\\local\\programs\\python\\python312\\lib\\site-packages (from matplotlib>=3.3.0->ultralytics) (2.9.0.post0)\n",
      "Requirement already satisfied: pytz>=2020.1 in c:\\users\\radu2\\appdata\\local\\programs\\python\\python312\\lib\\site-packages (from pandas>=1.1.4->ultralytics) (2024.2)\n",
      "Requirement already satisfied: tzdata>=2022.7 in c:\\users\\radu2\\appdata\\local\\programs\\python\\python312\\lib\\site-packages (from pandas>=1.1.4->ultralytics) (2024.2)\n",
      "Requirement already satisfied: charset-normalizer<4,>=2 in c:\\users\\radu2\\appdata\\local\\programs\\python\\python312\\lib\\site-packages (from requests>=2.23.0->ultralytics) (3.4.0)\n",
      "Requirement already satisfied: idna<4,>=2.5 in c:\\users\\radu2\\appdata\\local\\programs\\python\\python312\\lib\\site-packages (from requests>=2.23.0->ultralytics) (3.10)\n",
      "Requirement already satisfied: urllib3<3,>=1.21.1 in c:\\users\\radu2\\appdata\\local\\programs\\python\\python312\\lib\\site-packages (from requests>=2.23.0->ultralytics) (2.2.3)\n",
      "Requirement already satisfied: certifi>=2017.4.17 in c:\\users\\radu2\\appdata\\local\\programs\\python\\python312\\lib\\site-packages (from requests>=2.23.0->ultralytics) (2024.8.30)\n",
      "Requirement already satisfied: filelock in c:\\users\\radu2\\appdata\\local\\programs\\python\\python312\\lib\\site-packages (from torch>=1.8.0->ultralytics) (3.16.1)\n",
      "Requirement already satisfied: typing-extensions>=4.10.0 in c:\\users\\radu2\\appdata\\local\\programs\\python\\python312\\lib\\site-packages (from torch>=1.8.0->ultralytics) (4.12.2)\n",
      "Requirement already satisfied: sympy>=1.13.3 in c:\\users\\radu2\\appdata\\local\\programs\\python\\python312\\lib\\site-packages (from torch>=1.8.0->ultralytics) (1.14.0)\n",
      "Requirement already satisfied: networkx in c:\\users\\radu2\\appdata\\local\\programs\\python\\python312\\lib\\site-packages (from torch>=1.8.0->ultralytics) (3.5)\n",
      "Requirement already satisfied: jinja2 in c:\\users\\radu2\\appdata\\local\\programs\\python\\python312\\lib\\site-packages (from torch>=1.8.0->ultralytics) (3.1.6)\n",
      "Requirement already satisfied: fsspec in c:\\users\\radu2\\appdata\\local\\programs\\python\\python312\\lib\\site-packages (from torch>=1.8.0->ultralytics) (2025.7.0)\n",
      "Requirement already satisfied: setuptools in c:\\users\\radu2\\appdata\\local\\programs\\python\\python312\\lib\\site-packages (from torch>=1.8.0->ultralytics) (78.1.0)\n",
      "Requirement already satisfied: colorama in c:\\users\\radu2\\appdata\\local\\programs\\python\\python312\\lib\\site-packages (from tqdm>=4.64.0->ultralytics) (0.4.6)\n",
      "Requirement already satisfied: six>=1.5 in c:\\users\\radu2\\appdata\\local\\programs\\python\\python312\\lib\\site-packages (from python-dateutil>=2.7->matplotlib>=3.3.0->ultralytics) (1.17.0)\n",
      "Requirement already satisfied: mpmath<1.4,>=1.1.0 in c:\\users\\radu2\\appdata\\local\\programs\\python\\python312\\lib\\site-packages (from sympy>=1.13.3->torch>=1.8.0->ultralytics) (1.3.0)\n",
      "Requirement already satisfied: MarkupSafe>=2.0 in c:\\users\\radu2\\appdata\\local\\programs\\python\\python312\\lib\\site-packages (from jinja2->torch>=1.8.0->ultralytics) (3.0.2)\n"
     ]
    },
    {
     "name": "stderr",
     "output_type": "stream",
     "text": [
      "\n",
      "[notice] A new release of pip is available: 25.0.1 -> 25.2\n",
      "[notice] To update, run: python.exe -m pip install --upgrade pip\n"
     ]
    },
    {
     "name": "stdout",
     "output_type": "stream",
     "text": [
      "Collecting roboflow\n",
      "  Downloading roboflow-1.2.3-py3-none-any.whl.metadata (9.7 kB)\n",
      "Requirement already satisfied: certifi in c:\\users\\radu2\\appdata\\local\\programs\\python\\python312\\lib\\site-packages (from roboflow) (2024.8.30)\n",
      "Collecting idna==3.7 (from roboflow)\n",
      "  Downloading idna-3.7-py3-none-any.whl.metadata (9.9 kB)\n",
      "Requirement already satisfied: cycler in c:\\users\\radu2\\appdata\\local\\programs\\python\\python312\\lib\\site-packages (from roboflow) (0.12.1)\n",
      "Requirement already satisfied: kiwisolver>=1.3.1 in c:\\users\\radu2\\appdata\\local\\programs\\python\\python312\\lib\\site-packages (from roboflow) (1.4.8)\n",
      "Requirement already satisfied: matplotlib in c:\\users\\radu2\\appdata\\local\\programs\\python\\python312\\lib\\site-packages (from roboflow) (3.10.5)\n",
      "Requirement already satisfied: numpy>=1.18.5 in c:\\users\\radu2\\appdata\\local\\programs\\python\\python312\\lib\\site-packages (from roboflow) (2.2.6)\n",
      "Collecting opencv-python-headless==4.10.0.84 (from roboflow)\n",
      "  Downloading opencv_python_headless-4.10.0.84-cp37-abi3-win_amd64.whl.metadata (20 kB)\n",
      "Requirement already satisfied: Pillow>=7.1.2 in c:\\users\\radu2\\appdata\\local\\programs\\python\\python312\\lib\\site-packages (from roboflow) (11.3.0)\n",
      "Collecting pi-heif<2 (from roboflow)\n",
      "  Downloading pi_heif-1.1.0-cp312-cp312-win_amd64.whl.metadata (6.7 kB)\n",
      "Collecting pillow-avif-plugin<2 (from roboflow)\n",
      "  Downloading pillow_avif_plugin-1.5.2-cp312-cp312-win_amd64.whl.metadata (2.2 kB)\n",
      "Requirement already satisfied: python-dateutil in c:\\users\\radu2\\appdata\\local\\programs\\python\\python312\\lib\\site-packages (from roboflow) (2.9.0.post0)\n",
      "Collecting python-dotenv (from roboflow)\n",
      "  Downloading python_dotenv-1.1.1-py3-none-any.whl.metadata (24 kB)\n",
      "Requirement already satisfied: requests in c:\\users\\radu2\\appdata\\local\\programs\\python\\python312\\lib\\site-packages (from roboflow) (2.32.3)\n",
      "Requirement already satisfied: six in c:\\users\\radu2\\appdata\\local\\programs\\python\\python312\\lib\\site-packages (from roboflow) (1.17.0)\n",
      "Requirement already satisfied: urllib3>=1.26.6 in c:\\users\\radu2\\appdata\\local\\programs\\python\\python312\\lib\\site-packages (from roboflow) (2.2.3)\n",
      "Requirement already satisfied: tqdm>=4.41.0 in c:\\users\\radu2\\appdata\\local\\programs\\python\\python312\\lib\\site-packages (from roboflow) (4.67.1)\n",
      "Requirement already satisfied: PyYAML>=5.3.1 in c:\\users\\radu2\\appdata\\local\\programs\\python\\python312\\lib\\site-packages (from roboflow) (6.0.2)\n",
      "Requirement already satisfied: requests-toolbelt in c:\\users\\radu2\\appdata\\local\\programs\\python\\python312\\lib\\site-packages (from roboflow) (1.0.0)\n",
      "Collecting filetype (from roboflow)\n",
      "  Downloading filetype-1.2.0-py2.py3-none-any.whl.metadata (6.5 kB)\n",
      "Requirement already satisfied: colorama in c:\\users\\radu2\\appdata\\local\\programs\\python\\python312\\lib\\site-packages (from tqdm>=4.41.0->roboflow) (0.4.6)\n",
      "Requirement already satisfied: contourpy>=1.0.1 in c:\\users\\radu2\\appdata\\local\\programs\\python\\python312\\lib\\site-packages (from matplotlib->roboflow) (1.3.3)\n",
      "Requirement already satisfied: fonttools>=4.22.0 in c:\\users\\radu2\\appdata\\local\\programs\\python\\python312\\lib\\site-packages (from matplotlib->roboflow) (4.59.0)\n",
      "Requirement already satisfied: packaging>=20.0 in c:\\users\\radu2\\appdata\\local\\programs\\python\\python312\\lib\\site-packages (from matplotlib->roboflow) (24.2)\n",
      "Requirement already satisfied: pyparsing>=2.3.1 in c:\\users\\radu2\\appdata\\local\\programs\\python\\python312\\lib\\site-packages (from matplotlib->roboflow) (3.2.3)\n",
      "Requirement already satisfied: charset-normalizer<4,>=2 in c:\\users\\radu2\\appdata\\local\\programs\\python\\python312\\lib\\site-packages (from requests->roboflow) (3.4.0)\n",
      "Downloading roboflow-1.2.3-py3-none-any.whl (86 kB)\n",
      "Downloading idna-3.7-py3-none-any.whl (66 kB)\n",
      "Downloading opencv_python_headless-4.10.0.84-cp37-abi3-win_amd64.whl (38.8 MB)\n",
      "   ---------------------------------------- 0.0/38.8 MB ? eta -:--:--\n",
      "   ---------------------------------------- 0.0/38.8 MB ? eta -:--:--\n",
      "   ---------------------------------------- 0.3/38.8 MB ? eta -:--:--\n",
      "    --------------------------------------- 0.5/38.8 MB 1.2 MB/s eta 0:00:32\n",
      "    --------------------------------------- 0.8/38.8 MB 1.2 MB/s eta 0:00:32\n",
      "   - -------------------------------------- 1.0/38.8 MB 1.2 MB/s eta 0:00:33\n",
      "   - -------------------------------------- 1.3/38.8 MB 1.2 MB/s eta 0:00:32\n",
      "   - -------------------------------------- 1.6/38.8 MB 1.2 MB/s eta 0:00:32\n",
      "   - -------------------------------------- 1.8/38.8 MB 1.2 MB/s eta 0:00:32\n",
      "   -- ------------------------------------- 2.1/38.8 MB 1.2 MB/s eta 0:00:32\n",
      "   -- ------------------------------------- 2.4/38.8 MB 1.2 MB/s eta 0:00:32\n",
      "   -- ------------------------------------- 2.6/38.8 MB 1.2 MB/s eta 0:00:31\n",
      "   -- ------------------------------------- 2.9/38.8 MB 1.2 MB/s eta 0:00:31\n",
      "   --- ------------------------------------ 3.1/38.8 MB 1.2 MB/s eta 0:00:31\n",
      "   --- ------------------------------------ 3.1/38.8 MB 1.2 MB/s eta 0:00:31\n",
      "   --- ------------------------------------ 3.4/38.8 MB 1.2 MB/s eta 0:00:31\n",
      "   --- ------------------------------------ 3.7/38.8 MB 1.2 MB/s eta 0:00:31\n",
      "   ---- ----------------------------------- 3.9/38.8 MB 1.2 MB/s eta 0:00:30\n",
      "   ---- ----------------------------------- 4.2/38.8 MB 1.2 MB/s eta 0:00:30\n",
      "   ---- ----------------------------------- 4.5/38.8 MB 1.2 MB/s eta 0:00:30\n",
      "   ---- ----------------------------------- 4.7/38.8 MB 1.2 MB/s eta 0:00:30\n",
      "   ----- ---------------------------------- 5.0/38.8 MB 1.2 MB/s eta 0:00:29\n",
      "   ----- ---------------------------------- 5.2/38.8 MB 1.2 MB/s eta 0:00:29\n",
      "   ----- ---------------------------------- 5.5/38.8 MB 1.2 MB/s eta 0:00:29\n",
      "   ----- ---------------------------------- 5.8/38.8 MB 1.2 MB/s eta 0:00:29\n",
      "   ----- ---------------------------------- 5.8/38.8 MB 1.2 MB/s eta 0:00:29\n",
      "   ------ --------------------------------- 6.0/38.8 MB 1.2 MB/s eta 0:00:29\n",
      "   ------ --------------------------------- 6.3/38.8 MB 1.2 MB/s eta 0:00:28\n",
      "   ------ --------------------------------- 6.6/38.8 MB 1.2 MB/s eta 0:00:28\n",
      "   ------- -------------------------------- 6.8/38.8 MB 1.2 MB/s eta 0:00:28\n",
      "   ------- -------------------------------- 7.1/38.8 MB 1.2 MB/s eta 0:00:28\n",
      "   ------- -------------------------------- 7.3/38.8 MB 1.2 MB/s eta 0:00:27\n",
      "   ------- -------------------------------- 7.6/38.8 MB 1.2 MB/s eta 0:00:27\n",
      "   -------- ------------------------------- 7.9/38.8 MB 1.2 MB/s eta 0:00:27\n",
      "   -------- ------------------------------- 8.1/38.8 MB 1.2 MB/s eta 0:00:27\n",
      "   -------- ------------------------------- 8.4/38.8 MB 1.2 MB/s eta 0:00:26\n",
      "   -------- ------------------------------- 8.7/38.8 MB 1.2 MB/s eta 0:00:26\n",
      "   --------- ------------------------------ 8.9/38.8 MB 1.2 MB/s eta 0:00:26\n",
      "   --------- ------------------------------ 8.9/38.8 MB 1.2 MB/s eta 0:00:26\n",
      "   --------- ------------------------------ 9.2/38.8 MB 1.2 MB/s eta 0:00:26\n",
      "   --------- ------------------------------ 9.4/38.8 MB 1.2 MB/s eta 0:00:26\n",
      "   ---------- ----------------------------- 9.7/38.8 MB 1.2 MB/s eta 0:00:25\n",
      "   ---------- ----------------------------- 10.0/38.8 MB 1.2 MB/s eta 0:00:25\n",
      "   ---------- ----------------------------- 10.2/38.8 MB 1.2 MB/s eta 0:00:25\n",
      "   ---------- ----------------------------- 10.5/38.8 MB 1.2 MB/s eta 0:00:25\n",
      "   ----------- ---------------------------- 10.7/38.8 MB 1.2 MB/s eta 0:00:24\n",
      "   ----------- ---------------------------- 11.0/38.8 MB 1.2 MB/s eta 0:00:24\n",
      "   ----------- ---------------------------- 11.3/38.8 MB 1.2 MB/s eta 0:00:24\n",
      "   ----------- ---------------------------- 11.5/38.8 MB 1.2 MB/s eta 0:00:24\n",
      "   ------------ --------------------------- 11.8/38.8 MB 1.2 MB/s eta 0:00:24\n",
      "   ------------ --------------------------- 12.1/38.8 MB 1.2 MB/s eta 0:00:23\n",
      "   ------------ --------------------------- 12.1/38.8 MB 1.2 MB/s eta 0:00:23\n",
      "   ------------ --------------------------- 12.3/38.8 MB 1.2 MB/s eta 0:00:23\n",
      "   ------------ --------------------------- 12.6/38.8 MB 1.2 MB/s eta 0:00:23\n",
      "   ------------- -------------------------- 12.8/38.8 MB 1.2 MB/s eta 0:00:23\n",
      "   ------------- -------------------------- 13.1/38.8 MB 1.2 MB/s eta 0:00:22\n",
      "   ------------- -------------------------- 13.4/38.8 MB 1.2 MB/s eta 0:00:22\n",
      "   -------------- ------------------------- 13.6/38.8 MB 1.2 MB/s eta 0:00:22\n",
      "   -------------- ------------------------- 13.9/38.8 MB 1.2 MB/s eta 0:00:22\n",
      "   -------------- ------------------------- 14.2/38.8 MB 1.2 MB/s eta 0:00:22\n",
      "   -------------- ------------------------- 14.4/38.8 MB 1.2 MB/s eta 0:00:21\n",
      "   --------------- ------------------------ 14.7/38.8 MB 1.2 MB/s eta 0:00:21\n",
      "   --------------- ------------------------ 14.7/38.8 MB 1.2 MB/s eta 0:00:21\n",
      "   --------------- ------------------------ 14.9/38.8 MB 1.2 MB/s eta 0:00:21\n",
      "   --------------- ------------------------ 15.2/38.8 MB 1.2 MB/s eta 0:00:21\n",
      "   --------------- ------------------------ 15.5/38.8 MB 1.2 MB/s eta 0:00:20\n",
      "   ---------------- ----------------------- 15.7/38.8 MB 1.2 MB/s eta 0:00:20\n",
      "   ---------------- ----------------------- 16.0/38.8 MB 1.2 MB/s eta 0:00:20\n",
      "   ---------------- ----------------------- 16.3/38.8 MB 1.2 MB/s eta 0:00:20\n",
      "   ----------------- ---------------------- 16.5/38.8 MB 1.2 MB/s eta 0:00:20\n",
      "   ----------------- ---------------------- 16.8/38.8 MB 1.2 MB/s eta 0:00:19\n",
      "   ----------------- ---------------------- 17.0/38.8 MB 1.2 MB/s eta 0:00:19\n",
      "   ----------------- ---------------------- 17.0/38.8 MB 1.2 MB/s eta 0:00:19\n",
      "   ----------------- ---------------------- 17.3/38.8 MB 1.2 MB/s eta 0:00:19\n",
      "   ------------------ --------------------- 17.6/38.8 MB 1.2 MB/s eta 0:00:19\n",
      "   ------------------ --------------------- 17.8/38.8 MB 1.2 MB/s eta 0:00:18\n",
      "   ------------------ --------------------- 18.1/38.8 MB 1.2 MB/s eta 0:00:18\n",
      "   ------------------ --------------------- 18.4/38.8 MB 1.2 MB/s eta 0:00:18\n",
      "   ------------------- -------------------- 18.6/38.8 MB 1.2 MB/s eta 0:00:18\n",
      "   ------------------- -------------------- 18.9/38.8 MB 1.2 MB/s eta 0:00:18\n",
      "   ------------------- -------------------- 19.1/38.8 MB 1.2 MB/s eta 0:00:17\n",
      "   -------------------- ------------------- 19.4/38.8 MB 1.2 MB/s eta 0:00:17\n",
      "   -------------------- ------------------- 19.7/38.8 MB 1.2 MB/s eta 0:00:17\n",
      "   -------------------- ------------------- 19.9/38.8 MB 1.2 MB/s eta 0:00:17\n",
      "   -------------------- ------------------- 20.2/38.8 MB 1.2 MB/s eta 0:00:16\n",
      "   -------------------- ------------------- 20.2/38.8 MB 1.2 MB/s eta 0:00:16\n",
      "   --------------------- ------------------ 20.4/38.8 MB 1.2 MB/s eta 0:00:16\n",
      "   --------------------- ------------------ 20.7/38.8 MB 1.2 MB/s eta 0:00:16\n",
      "   --------------------- ------------------ 21.0/38.8 MB 1.2 MB/s eta 0:00:16\n",
      "   --------------------- ------------------ 21.2/38.8 MB 1.2 MB/s eta 0:00:16\n",
      "   ---------------------- ----------------- 21.5/38.8 MB 1.2 MB/s eta 0:00:15\n",
      "   ---------------------- ----------------- 21.8/38.8 MB 1.2 MB/s eta 0:00:15\n",
      "   ---------------------- ----------------- 22.0/38.8 MB 1.2 MB/s eta 0:00:15\n",
      "   ---------------------- ----------------- 22.3/38.8 MB 1.2 MB/s eta 0:00:15\n",
      "   ----------------------- ---------------- 22.5/38.8 MB 1.2 MB/s eta 0:00:14\n",
      "   ----------------------- ---------------- 22.8/38.8 MB 1.2 MB/s eta 0:00:14\n",
      "   ----------------------- ---------------- 23.1/38.8 MB 1.2 MB/s eta 0:00:14\n",
      "   ------------------------ --------------- 23.3/38.8 MB 1.2 MB/s eta 0:00:14\n",
      "   ------------------------ --------------- 23.6/38.8 MB 1.2 MB/s eta 0:00:13\n",
      "   ------------------------ --------------- 23.6/38.8 MB 1.2 MB/s eta 0:00:13\n",
      "   ------------------------ --------------- 23.9/38.8 MB 1.2 MB/s eta 0:00:13\n",
      "   ------------------------ --------------- 24.1/38.8 MB 1.2 MB/s eta 0:00:13\n",
      "   ------------------------- -------------- 24.4/38.8 MB 1.2 MB/s eta 0:00:13\n",
      "   ------------------------- -------------- 24.6/38.8 MB 1.2 MB/s eta 0:00:13\n",
      "   ------------------------- -------------- 24.9/38.8 MB 1.2 MB/s eta 0:00:12\n",
      "   ------------------------- -------------- 25.2/38.8 MB 1.2 MB/s eta 0:00:12\n",
      "   -------------------------- ------------- 25.4/38.8 MB 1.2 MB/s eta 0:00:12\n",
      "   -------------------------- ------------- 25.7/38.8 MB 1.2 MB/s eta 0:00:12\n",
      "   -------------------------- ------------- 26.0/38.8 MB 1.2 MB/s eta 0:00:11\n",
      "   --------------------------- ------------ 26.2/38.8 MB 1.2 MB/s eta 0:00:11\n",
      "   --------------------------- ------------ 26.2/38.8 MB 1.2 MB/s eta 0:00:11\n",
      "   --------------------------- ------------ 26.5/38.8 MB 1.2 MB/s eta 0:00:11\n",
      "   --------------------------- ------------ 26.7/38.8 MB 1.2 MB/s eta 0:00:11\n",
      "   --------------------------- ------------ 27.0/38.8 MB 1.2 MB/s eta 0:00:11\n",
      "   ---------------------------- ----------- 27.3/38.8 MB 1.2 MB/s eta 0:00:10\n",
      "   ---------------------------- ----------- 27.5/38.8 MB 1.2 MB/s eta 0:00:10\n",
      "   ---------------------------- ----------- 27.8/38.8 MB 1.2 MB/s eta 0:00:10\n",
      "   ---------------------------- ----------- 28.0/38.8 MB 1.2 MB/s eta 0:00:10\n",
      "   ----------------------------- ---------- 28.3/38.8 MB 1.2 MB/s eta 0:00:09\n",
      "   ----------------------------- ---------- 28.6/38.8 MB 1.2 MB/s eta 0:00:09\n",
      "   ----------------------------- ---------- 28.8/38.8 MB 1.2 MB/s eta 0:00:09\n",
      "   ------------------------------ --------- 29.1/38.8 MB 1.2 MB/s eta 0:00:09\n",
      "   ------------------------------ --------- 29.4/38.8 MB 1.2 MB/s eta 0:00:09\n",
      "   ------------------------------ --------- 29.6/38.8 MB 1.2 MB/s eta 0:00:08\n",
      "   ------------------------------ --------- 29.9/38.8 MB 1.2 MB/s eta 0:00:08\n",
      "   ------------------------------ --------- 29.9/38.8 MB 1.2 MB/s eta 0:00:08\n",
      "   ------------------------------- -------- 30.1/38.8 MB 1.2 MB/s eta 0:00:08\n",
      "   ------------------------------- -------- 30.4/38.8 MB 1.2 MB/s eta 0:00:08\n",
      "   ------------------------------- -------- 30.7/38.8 MB 1.2 MB/s eta 0:00:07\n",
      "   ------------------------------- -------- 30.9/38.8 MB 1.2 MB/s eta 0:00:07\n",
      "   -------------------------------- ------- 31.2/38.8 MB 1.2 MB/s eta 0:00:07\n",
      "   -------------------------------- ------- 31.5/38.8 MB 1.2 MB/s eta 0:00:07\n",
      "   -------------------------------- ------- 31.7/38.8 MB 1.2 MB/s eta 0:00:07\n",
      "   --------------------------------- ------ 32.0/38.8 MB 1.2 MB/s eta 0:00:06\n",
      "   --------------------------------- ------ 32.2/38.8 MB 1.2 MB/s eta 0:00:06\n",
      "   --------------------------------- ------ 32.5/38.8 MB 1.2 MB/s eta 0:00:06\n",
      "   --------------------------------- ------ 32.8/38.8 MB 1.2 MB/s eta 0:00:06\n",
      "   ---------------------------------- ----- 33.0/38.8 MB 1.2 MB/s eta 0:00:05\n",
      "   ---------------------------------- ----- 33.3/38.8 MB 1.2 MB/s eta 0:00:05\n",
      "   ---------------------------------- ----- 33.6/38.8 MB 1.2 MB/s eta 0:00:05\n",
      "   ---------------------------------- ----- 33.8/38.8 MB 1.2 MB/s eta 0:00:05\n",
      "   ----------------------------------- ---- 34.1/38.8 MB 1.2 MB/s eta 0:00:05\n",
      "   ----------------------------------- ---- 34.1/38.8 MB 1.2 MB/s eta 0:00:05\n",
      "   ----------------------------------- ---- 34.3/38.8 MB 1.2 MB/s eta 0:00:04\n",
      "   ----------------------------------- ---- 34.6/38.8 MB 1.2 MB/s eta 0:00:04\n",
      "   ----------------------------------- ---- 34.9/38.8 MB 1.2 MB/s eta 0:00:04\n",
      "   ------------------------------------ --- 35.1/38.8 MB 1.2 MB/s eta 0:00:04\n",
      "   ------------------------------------ --- 35.4/38.8 MB 1.2 MB/s eta 0:00:03\n",
      "   ------------------------------------ --- 35.7/38.8 MB 1.2 MB/s eta 0:00:03\n",
      "   ------------------------------------- -- 35.9/38.8 MB 1.2 MB/s eta 0:00:03\n",
      "   ------------------------------------- -- 36.2/38.8 MB 1.2 MB/s eta 0:00:03\n",
      "   ------------------------------------- -- 36.4/38.8 MB 1.2 MB/s eta 0:00:02\n",
      "   ------------------------------------- -- 36.7/38.8 MB 1.2 MB/s eta 0:00:02\n",
      "   ------------------------------------- -- 36.7/38.8 MB 1.2 MB/s eta 0:00:02\n",
      "   -------------------------------------- - 37.0/38.8 MB 1.2 MB/s eta 0:00:02\n",
      "   -------------------------------------- - 37.2/38.8 MB 1.2 MB/s eta 0:00:02\n",
      "   -------------------------------------- - 37.5/38.8 MB 1.2 MB/s eta 0:00:02\n",
      "   -------------------------------------- - 37.7/38.8 MB 1.2 MB/s eta 0:00:01\n",
      "   ---------------------------------------  38.0/38.8 MB 1.2 MB/s eta 0:00:01\n",
      "   ---------------------------------------  38.3/38.8 MB 1.2 MB/s eta 0:00:01\n",
      "   ---------------------------------------  38.5/38.8 MB 1.2 MB/s eta 0:00:01\n",
      "   ---------------------------------------- 38.8/38.8 MB 1.2 MB/s eta 0:00:00\n",
      "Downloading pi_heif-1.1.0-cp312-cp312-win_amd64.whl (1.9 MB)\n",
      "   ---------------------------------------- 0.0/1.9 MB ? eta -:--:--\n",
      "   ---------------------------------------- 0.0/1.9 MB ? eta -:--:--\n",
      "   ----- ---------------------------------- 0.3/1.9 MB ? eta -:--:--\n",
      "   ----------- ---------------------------- 0.5/1.9 MB 1.2 MB/s eta 0:00:02\n",
      "   ---------------- ----------------------- 0.8/1.9 MB 1.2 MB/s eta 0:00:01\n",
      "   ---------------------- ----------------- 1.0/1.9 MB 1.2 MB/s eta 0:00:01\n",
      "   --------------------------- ------------ 1.3/1.9 MB 1.2 MB/s eta 0:00:01\n",
      "   --------------------------------- ------ 1.6/1.9 MB 1.2 MB/s eta 0:00:01\n",
      "   -------------------------------------- - 1.8/1.9 MB 1.2 MB/s eta 0:00:01\n",
      "   ---------------------------------------- 1.9/1.9 MB 1.2 MB/s eta 0:00:00\n",
      "Downloading pillow_avif_plugin-1.5.2-cp312-cp312-win_amd64.whl (9.9 MB)\n",
      "   ---------------------------------------- 0.0/9.9 MB ? eta -:--:--\n",
      "   ---------------------------------------- 0.0/9.9 MB ? eta -:--:--\n",
      "   - -------------------------------------- 0.3/9.9 MB ? eta -:--:--\n",
      "   -- ------------------------------------- 0.5/9.9 MB 1.1 MB/s eta 0:00:09\n",
      "   --- ------------------------------------ 0.8/9.9 MB 1.2 MB/s eta 0:00:08\n",
      "   ---- ----------------------------------- 1.0/9.9 MB 1.2 MB/s eta 0:00:08\n",
      "   ----- ---------------------------------- 1.3/9.9 MB 1.2 MB/s eta 0:00:08\n",
      "   ------ --------------------------------- 1.6/9.9 MB 1.2 MB/s eta 0:00:08\n",
      "   ------- -------------------------------- 1.8/9.9 MB 1.2 MB/s eta 0:00:07\n",
      "   -------- ------------------------------- 2.1/9.9 MB 1.2 MB/s eta 0:00:07\n",
      "   --------- ------------------------------ 2.4/9.9 MB 1.2 MB/s eta 0:00:07\n",
      "   ---------- ----------------------------- 2.6/9.9 MB 1.2 MB/s eta 0:00:07\n",
      "   ----------- ---------------------------- 2.9/9.9 MB 1.2 MB/s eta 0:00:06\n",
      "   ------------ --------------------------- 3.1/9.9 MB 1.2 MB/s eta 0:00:06\n",
      "   ------------ --------------------------- 3.1/9.9 MB 1.2 MB/s eta 0:00:06\n",
      "   ------------- -------------------------- 3.4/9.9 MB 1.2 MB/s eta 0:00:06\n",
      "   -------------- ------------------------- 3.7/9.9 MB 1.2 MB/s eta 0:00:06\n",
      "   --------------- ------------------------ 3.9/9.9 MB 1.2 MB/s eta 0:00:06\n",
      "   ----------------- ---------------------- 4.2/9.9 MB 1.2 MB/s eta 0:00:05\n",
      "   ------------------ --------------------- 4.5/9.9 MB 1.2 MB/s eta 0:00:05\n",
      "   ------------------- -------------------- 4.7/9.9 MB 1.2 MB/s eta 0:00:05\n",
      "   -------------------- ------------------- 5.0/9.9 MB 1.2 MB/s eta 0:00:05\n",
      "   --------------------- ------------------ 5.2/9.9 MB 1.2 MB/s eta 0:00:04\n",
      "   ---------------------- ----------------- 5.5/9.9 MB 1.2 MB/s eta 0:00:04\n",
      "   ----------------------- ---------------- 5.8/9.9 MB 1.2 MB/s eta 0:00:04\n",
      "   ------------------------ --------------- 6.0/9.9 MB 1.2 MB/s eta 0:00:04\n",
      "   ------------------------- -------------- 6.3/9.9 MB 1.2 MB/s eta 0:00:04\n",
      "   -------------------------- ------------- 6.6/9.9 MB 1.2 MB/s eta 0:00:03\n",
      "   -------------------------- ------------- 6.6/9.9 MB 1.2 MB/s eta 0:00:03\n",
      "   --------------------------- ------------ 6.8/9.9 MB 1.2 MB/s eta 0:00:03\n",
      "   ---------------------------- ----------- 7.1/9.9 MB 1.2 MB/s eta 0:00:03\n",
      "   ----------------------------- ---------- 7.3/9.9 MB 1.2 MB/s eta 0:00:03\n",
      "   ------------------------------ --------- 7.6/9.9 MB 1.2 MB/s eta 0:00:02\n",
      "   ------------------------------- -------- 7.9/9.9 MB 1.2 MB/s eta 0:00:02\n",
      "   -------------------------------- ------- 8.1/9.9 MB 1.2 MB/s eta 0:00:02\n",
      "   ---------------------------------- ----- 8.4/9.9 MB 1.2 MB/s eta 0:00:02\n",
      "   ----------------------------------- ---- 8.7/9.9 MB 1.2 MB/s eta 0:00:02\n",
      "   ------------------------------------ --- 8.9/9.9 MB 1.2 MB/s eta 0:00:01\n",
      "   ------------------------------------- -- 9.2/9.9 MB 1.2 MB/s eta 0:00:01\n",
      "   -------------------------------------- - 9.4/9.9 MB 1.2 MB/s eta 0:00:01\n",
      "   ---------------------------------------  9.7/9.9 MB 1.2 MB/s eta 0:00:01\n",
      "   ---------------------------------------- 9.9/9.9 MB 1.2 MB/s eta 0:00:00\n",
      "Downloading filetype-1.2.0-py2.py3-none-any.whl (19 kB)\n",
      "Downloading python_dotenv-1.1.1-py3-none-any.whl (20 kB)\n",
      "Installing collected packages: pillow-avif-plugin, filetype, python-dotenv, pi-heif, opencv-python-headless, idna, roboflow\n",
      "  Attempting uninstall: idna\n",
      "    Found existing installation: idna 3.10\n",
      "    Uninstalling idna-3.10:\n",
      "      Successfully uninstalled idna-3.10\n",
      "Successfully installed filetype-1.2.0 idna-3.7 opencv-python-headless-4.10.0.84 pi-heif-1.1.0 pillow-avif-plugin-1.5.2 python-dotenv-1.1.1 roboflow-1.2.3\n"
     ]
    },
    {
     "name": "stderr",
     "output_type": "stream",
     "text": [
      "\n",
      "[notice] A new release of pip is available: 25.0.1 -> 25.2\n",
      "[notice] To update, run: python.exe -m pip install --upgrade pip\n"
     ]
    }
   ],
   "source": [
    "!pip install ultralytics\n",
    "!pip install roboflow"
   ]
  },
  {
   "cell_type": "code",
   "execution_count": null,
   "id": "dce1a8d5",
   "metadata": {},
   "outputs": [
    {
     "name": "stdout",
     "output_type": "stream",
     "text": [
      "[WinError 2] The system cannot find the file specified: 'c:\\\\Users\\\\radu2\\\\Desktop\\\\ChickenDetection\\\\training/datasets'\n",
      "c:\\Users\\radu2\\Desktop\\ChickenDetection\\training\n"
     ]
    },
    {
     "name": "stderr",
     "output_type": "stream",
     "text": [
      "The syntax of the command is incorrect.\n"
     ]
    }
   ],
   "source": [
    "import os\n",
    "\n",
    "HOME = os.getcwd()\n",
    "{HOME}\n",
    "\n"
   ]
  },
  {
   "cell_type": "code",
   "execution_count": 10,
   "id": "ea89ac04",
   "metadata": {},
   "outputs": [
    {
     "name": "stdout",
     "output_type": "stream",
     "text": [
      "c:\\Users\\radu2\\Desktop\\ChickenDetection\\training\\datasets\n"
     ]
    }
   ],
   "source": [
    "%cd {HOME}/datasets\n",
    "\n"
   ]
  },
  {
   "cell_type": "code",
   "execution_count": null,
   "id": "64048549",
   "metadata": {},
   "outputs": [],
   "source": []
  },
  {
   "cell_type": "code",
   "execution_count": 11,
   "id": "ee9967b1",
   "metadata": {},
   "outputs": [
    {
     "name": "stdout",
     "output_type": "stream",
     "text": [
      "loading Roboflow workspace...\n",
      "loading Roboflow project...\n"
     ]
    },
    {
     "name": "stderr",
     "output_type": "stream",
     "text": [
      "Downloading Dataset Version Zip in Chicken-Detector-2 to yolov11:: 100%|██████████| 57864/57864 [00:52<00:00, 1098.26it/s]"
     ]
    },
    {
     "name": "stdout",
     "output_type": "stream",
     "text": [
      "\n"
     ]
    },
    {
     "name": "stderr",
     "output_type": "stream",
     "text": [
      "\n",
      "Extracting Dataset Version Zip to Chicken-Detector-2 in yolov11:: 100%|██████████| 1064/1064 [00:00<00:00, 1103.74it/s]\n"
     ]
    }
   ],
   "source": [
    "from roboflow import Roboflow\n",
    "rf = Roboflow(api_key=\"FzPxTmtWGfPEwGcDKd7g\")\n",
    "project = rf.workspace(\"radu-zghbi\").project(\"chicken-detector-etho0\")\n",
    "version = project.version(2)\n",
    "dataset = version.download(\"yolov11\")"
   ]
  },
  {
   "cell_type": "code",
   "execution_count": 12,
   "id": "e1d43b9b",
   "metadata": {},
   "outputs": [
    {
     "name": "stdout",
     "output_type": "stream",
     "text": [
      "Ultralytics 8.3.176  Python-3.12.0 torch-2.8.0+cpu CPU (Intel Core(TM) i5-8250U 1.60GHz)\n",
      "Setup complete  (8 CPUs, 7.9 GB RAM, 160.6/201.5 GB disk)\n"
     ]
    }
   ],
   "source": [
    "import ultralytics\n",
    "\n",
    "ultralytics.checks()"
   ]
  },
  {
   "cell_type": "code",
   "execution_count": 27,
   "id": "e8a684a7",
   "metadata": {},
   "outputs": [
    {
     "name": "stdout",
     "output_type": "stream",
     "text": [
      "c:\\Users\\radu2\\Desktop\\ChickenDetection\\training\\datasets\\Chicken-Detector-2\n",
      "{'c:\\\\Users\\\\radu2\\\\Desktop\\\\ChickenDetection\\\\training'}\n"
     ]
    }
   ],
   "source": [
    "print(dataset.location)\n",
    "print({HOME})"
   ]
  },
  {
   "cell_type": "code",
   "execution_count": 29,
   "id": "f928cbda",
   "metadata": {},
   "outputs": [
    {
     "data": {
      "text/plain": [
       "'c:\\\\Users\\\\radu2\\\\Desktop\\\\ChickenDetection\\\\training\\\\datasets\\\\Chicken-Detector-2\\\\valid'"
      ]
     },
     "execution_count": 29,
     "metadata": {},
     "output_type": "execute_result"
    }
   ],
   "source": [
    "import shutil\n",
    "src  = \"c:\\\\Users\\\\radu2\\\\Desktop\\\\ChickenDetection\\\\training\\\\datasets\\\\Chicken-Detector-2\\\\train\"\n",
    "dest  = \"c:\\\\Users\\\\radu2\\\\Desktop\\\\ChickenDetection\\\\training\\\\datasets\\\\Chicken-Detector-2\\\\valid\"\n",
    "\n",
    "shutil.copytree(src, dest)"
   ]
  },
  {
   "cell_type": "code",
   "execution_count": 30,
   "id": "6e42de9f",
   "metadata": {},
   "outputs": [
    {
     "name": "stdout",
     "output_type": "stream",
     "text": [
      "c:\\Users\\radu2\\Desktop\\ChickenDetection\\training\n"
     ]
    }
   ],
   "source": [
    "%cd {HOME}"
   ]
  },
  {
   "cell_type": "code",
   "execution_count": null,
   "id": "82ecd45f",
   "metadata": {},
   "outputs": [],
   "source": [
    "print({dataset.location})"
   ]
  },
  {
   "cell_type": "code",
   "execution_count": null,
   "id": "d94f3ad0",
   "metadata": {},
   "outputs": [
    {
     "name": "stdout",
     "output_type": "stream",
     "text": [
      "cpu\n"
     ]
    }
   ],
   "source": []
  },
  {
   "cell_type": "code",
   "execution_count": null,
   "id": "023f2915",
   "metadata": {},
   "outputs": [
    {
     "name": "stdout",
     "output_type": "stream",
     "text": [
      "Ultralytics 8.3.176  Python-3.12.0 torch-2.8.0+cpu \n"
     ]
    },
    {
     "name": "stderr",
     "output_type": "stream",
     "text": [
      "Traceback (most recent call last):\n",
      "  File \"<frozen runpy>\", line 198, in _run_module_as_main\n",
      "  File \"<frozen runpy>\", line 88, in _run_code\n",
      "  File \"C:\\Users\\radu2\\AppData\\Local\\Programs\\Python\\Python312\\Scripts\\yolo.exe\\__main__.py\", line 7, in <module>\n",
      "  File \"C:\\Users\\radu2\\AppData\\Local\\Programs\\Python\\Python312\\Lib\\site-packages\\ultralytics\\cfg\\__init__.py\", line 983, in entrypoint\n",
      "    getattr(model, mode)(**overrides)  # default args from model\n",
      "    ^^^^^^^^^^^^^^^^^^^^^^^^^^^^^^^^^\n",
      "  File \"C:\\Users\\radu2\\AppData\\Local\\Programs\\Python\\Python312\\Lib\\site-packages\\ultralytics\\engine\\model.py\", line 793, in train\n",
      "    self.trainer = (trainer or self._smart_load(\"trainer\"))(overrides=args, _callbacks=self.callbacks)\n",
      "                   ^^^^^^^^^^^^^^^^^^^^^^^^^^^^^^^^^^^^^^^^^^^^^^^^^^^^^^^^^^^^^^^^^^^^^^^^^^^^^^^^^^^\n",
      "  File \"C:\\Users\\radu2\\AppData\\Local\\Programs\\Python\\Python312\\Lib\\site-packages\\ultralytics\\engine\\trainer.py\", line 121, in __init__\n",
      "    self.device = select_device(self.args.device, self.args.batch)\n",
      "                  ^^^^^^^^^^^^^^^^^^^^^^^^^^^^^^^^^^^^^^^^^^^^^^^^\n",
      "  File \"C:\\Users\\radu2\\AppData\\Local\\Programs\\Python\\Python312\\Lib\\site-packages\\ultralytics\\utils\\torch_utils.py\", line 202, in select_device\n",
      "    raise ValueError(\n",
      "ValueError: Invalid CUDA 'device=device' requested. Use 'device=cpu' or pass valid CUDA device(s) if available, i.e. 'device=0' or 'device=0,1,2,3' for Multi-GPU.\n",
      "\n",
      "torch.cuda.is_available(): False\n",
      "torch.cuda.device_count(): 0\n",
      "os.environ['CUDA_VISIBLE_DEVICES']: None\n",
      "See https://pytorch.org/get-started/locally/ for up-to-date torch install instructions if no CUDA devices are seen by torch.\n",
      "\n"
     ]
    }
   ],
   "source": [
    "!yolo task=detect mode=train model=yolo11s.pt data={dataset.location}/data.yaml imgsz=640 epochs=10 save=True "
   ]
  }
 ],
 "metadata": {
  "kernelspec": {
   "display_name": "Python 3",
   "language": "python",
   "name": "python3"
  },
  "language_info": {
   "codemirror_mode": {
    "name": "ipython",
    "version": 3
   },
   "file_extension": ".py",
   "mimetype": "text/x-python",
   "name": "python",
   "nbconvert_exporter": "python",
   "pygments_lexer": "ipython3",
   "version": "3.12.0"
  }
 },
 "nbformat": 4,
 "nbformat_minor": 5
}
